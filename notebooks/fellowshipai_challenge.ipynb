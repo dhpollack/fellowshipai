{
 "cells": [
  {
   "cell_type": "code",
   "execution_count": 18,
   "metadata": {},
   "outputs": [],
   "source": [
    "import sys\n",
    "sys.path.append(\"../\")"
   ]
  },
  {
   "cell_type": "code",
   "execution_count": 19,
   "metadata": {},
   "outputs": [],
   "source": [
    "import os"
   ]
  },
  {
   "cell_type": "code",
   "execution_count": 20,
   "metadata": {},
   "outputs": [],
   "source": [
    "fasttext_path = \"/home/david/Programming/repos/facebookresearch/fastText/fasttext\""
   ]
  },
  {
   "cell_type": "code",
   "execution_count": 27,
   "metadata": {},
   "outputs": [
    {
     "name": "stdout",
     "output_type": "stream",
     "text": [
      "Read 770M words\n",
      "Number of words:  4642493\n",
      "Number of labels: 21\n",
      "Progress: 100.0% words/sec/thread:  750086 lr:  0.000000 loss:  0.016697 ETA:   0h 0m 22.8% words/sec/thread:  743924 lr:  0.077164 loss:  0.030896 ETA:   0h 5m\n",
      "Progress: 100.0% words/sec/thread:  808464 lr:  0.000000 loss:  0.009479 ETA:   0h 0m\n",
      "N\t21000\n",
      "P@1\t0.997\n",
      "R@1\t0.997\n",
      "N\t21000\n",
      "P@1\t0.997\n",
      "R@1\t0.997\n"
     ]
    }
   ],
   "source": [
    "europarl_path = \"/home/david/Programming/data/WMT/europarl\"\n",
    "europarl_all = os.path.join(europarl_path, \"txt_noxml\", \"europarl.tokenized.all\")\n",
    "ftmodel_baseline = os.path.join(europarl_path, \"models\", \"europarl_lid.baseline\")\n",
    "ftmodel_baseline_bin = ftmodel_baseline + \".bin\"\n",
    "ftmodel_baseline_ftz = ftmodel_baseline + \".ftz\"\n",
    "europarl_test = os.path.join(europarl_path, \"test\", \"europarl.tokenized.test\")\n",
    "\n",
    "!$fasttext_path supervised -input $europarl_all -output $ftmodel_baseline\n",
    "!$fasttext_path quantize -output $ftmodel_baseline -input $europarl_all -qnorm -retrain -epoch 1 -cutoff 100000\n",
    "!$fasttext_path test $ftmodel_baseline_bin $europarl_test\n",
    "!$fasttext_path test $ftmodel_baseline_ftz $europarl_test"
   ]
  },
  {
   "cell_type": "code",
   "execution_count": 28,
   "metadata": {},
   "outputs": [
    {
     "name": "stdout",
     "output_type": "stream",
     "text": [
      "Read 763M words\n",
      "Number of words:  411624\n",
      "Number of labels: 21\n",
      "Progress: 100.0% words/sec/thread:  762807 lr:  0.000000 loss:  0.019602 ETA:   0h 0m 0.050105 loss:  0.026668 ETA:   0h 3m\n",
      "N\t100000\n",
      "P@1\t0.997\n",
      "R@1\t0.997\n"
     ]
    }
   ],
   "source": [
    "europarl_train = os.path.join(europarl_path, \"txt_noxml\", \"europarl.tokenized.split.train\")\n",
    "europarl_valid = os.path.join(europarl_path, \"txt_noxml\", \"europarl.tokenized.split.valid\")\n",
    "ftmodel_min50 = os.path.join(europarl_path, \"models\", \"europarl_lid.min50\")\n",
    "ftmodel_min50_bin = ftmodel_min50 + \".bin\"\n",
    "\n",
    "!$fasttext_path supervised -input $europarl_train -output $ftmodel_min50 -minCount 50\n",
    "!$fasttext_path test $ftmodel_min50_bin $europarl_valid"
   ]
  },
  {
   "cell_type": "code",
   "execution_count": 37,
   "metadata": {},
   "outputs": [
    {
     "name": "stdout",
     "output_type": "stream",
     "text": [
      "total 33G\r\n",
      "-rw-rw-r-- 1 david david 1,9G Dez  2 20:35 europarl_lid.baseline.bin\r\n",
      "-rw-rw-r-- 1 david david 6,9M Dez  2 20:42 europarl_lid.baseline.ftz\r\n",
      "-rw-rw-r-- 1 david david 4,6G Dez  2 20:39 europarl_lid.baseline.vec\r\n",
      "-rw-rw-r-- 1 david david 166M Dez  2 20:52 europarl_lid.min50.bin\r\n",
      "-rw-rw-r-- 1 david david 409M Dez  2 20:53 europarl_lid.min50.vec\r\n",
      "-rw-rw-r-- 1 david david 1,9G Nov 30 11:43 europarl_lid.model.baseline.bin\r\n",
      "-rw-rw-r-- 1 david david 6,9M Nov 30 12:03 europarl_lid.model.baseline.ftz\r\n",
      "-rw-rw-r-- 1 david david 4,6G Nov 30 11:46 europarl_lid.model.baseline.vec\r\n",
      "-rw-rw-r-- 1 david david 3,4G Nov 22 23:12 europarl_lid.model.bin\r\n",
      "-rw-rw-r-- 1 david david 586M Nov 22 23:30 europarl_lid.model.ftz\r\n",
      "-rw-rw-r-- 1 david david 1,7G Nov 26 19:56 europarl_lid.model.min2.bin\r\n",
      "-rw-rw-r-- 1 david david 4,2G Nov 26 19:59 europarl_lid.model.min2.vec\r\n",
      "-rw-rw-r-- 1 david david 166M Nov 27 01:11 europarl_lid.model.min5.bin\r\n",
      "-rw-rw-r-- 1 david david  18K Nov 26 20:15 europarl_lid.model.min5.output\r\n",
      "-rw-rw-r-- 1 david david 412M Nov 27 01:12 europarl_lid.model.min5.vec\r\n",
      "-rw-rw-r-- 1 david david 8,4G Nov 22 23:17 europarl_lid.model.vec\r\n"
     ]
    }
   ],
   "source": [
    "ft_models_path = os.path.join(europarl_path, \"models\")\n",
    "!ls -lh $ft_models_path"
   ]
  },
  {
   "cell_type": "code",
   "execution_count": 32,
   "metadata": {},
   "outputs": [
    {
     "data": {
      "text/html": [
       "Total time: 1:17:08 <p><table style='width:300px; margin-bottom:10px'>\n",
       "  <tr>\n",
       "    <th>epoch</th>\n",
       "    <th>train_loss</th>\n",
       "    <th>valid_loss</th>\n",
       "    <th>accuracy</th>\n",
       "  </tr>\n",
       "  <tr>\n",
       "    <th>1</th>\n",
       "    <th>0.009028</th>\n",
       "    <th>0.009348</th>\n",
       "    <th>0.997070</th>\n",
       "  </tr>\n",
       "  <tr>\n",
       "    <th>2</th>\n",
       "    <th>0.007764</th>\n",
       "    <th>0.007926</th>\n",
       "    <th>0.997410</th>\n",
       "  </tr>\n",
       "  <tr>\n",
       "\n",
       "  </tr>\n",
       "</table>\n"
      ],
      "text/plain": [
       "<IPython.core.display.HTML object>"
      ]
     },
     "metadata": {},
     "output_type": "display_data"
    },
    {
     "data": {
      "image/png": "[encoded data removed]",
      "text/plain": [
       "<Figure size 432x288 with 1 Axes>"
      ]
     },
     "metadata": {},
     "output_type": "display_data"
    },
    {
     "data": {
      "image/png": "[encoded data removed]",
      "text/plain": [
       "<Figure size 432x288 with 1 Axes>"
      ]
     },
     "metadata": {
      "needs_background": "light"
     },
     "output_type": "display_data"
    }
   ],
   "source": [
    "import torch\n",
    "import torch.nn as nn\n",
    "import torch.utils.data as data\n",
    "from torch.optim import SGD\n",
    "\n",
    "from data.europarl import EUROPARLFT\n",
    "from lid.ftModel import FTModel\n",
    "\n",
    "from fastai import *\n",
    "\n",
    "import os\n",
    "\n",
    "device = torch.device(\"cuda\" if torch.cuda.is_available() else \"cpu\")\n",
    "\n",
    "europarl_basedir = \"/home/david/Programming/data/WMT/europarl\"\n",
    "\n",
    "batch_size_training = 1000\n",
    "\n",
    "ds = EUROPARLFT(europarl_basedir, split=\"split_train\")\n",
    "dl = data.DataLoader(ds, batch_size=batch_size_training, shuffle=False)\n",
    "ds_valid = EUROPARLFT(europarl_basedir, split=\"split_valid\")\n",
    "dl_valid = data.DataLoader(ds_valid, batch_size=100, shuffle=False)\n",
    "ds_test = EUROPARLFT(europarl_basedir, split=\"test\")\n",
    "dl_test = data.DataLoader(ds_test, batch_size=20, shuffle=False)\n",
    "db = DataBunch(dl, dl_valid, test_dl=dl_test)\n",
    "\n",
    "emb_dim = ds.embbag.weight.data.size(1)\n",
    "\n",
    "m = FTModel(input_dim = emb_dim, layer_sizes = [1000,200])\n",
    "\n",
    "criterion = nn.CrossEntropyLoss()\n",
    "\n",
    "learner = Learner(db, m, loss_func = criterion, metrics=accuracy, callback_fns=ShowGraph)\n",
    "learner.unfreeze()\n",
    "\n",
    "learner.fit_one_cycle(2,1e-2)\n",
    "\n",
    "learner.save(\"model_1000_200_layernorm_epoch2\")\n"
   ]
  },
  {
   "cell_type": "code",
   "execution_count": 35,
   "metadata": {},
   "outputs": [
    {
     "name": "stdout",
     "output_type": "stream",
     "text": [
      "Accuracy: 99.5476%\n"
     ]
    }
   ],
   "source": [
    "\"\"\"\n",
    "ds_all = EUROPARLFT(europarl_basedir, split=\"train\")\n",
    "dl_all = data.DataLoader(ds, batch_size=batch_size_training, shuffle=False)\n",
    "# retraining with a small dummy validation set\n",
    "ds_dummy = EUROPARLFT(europarl_basedir, split=\"dev_train\")\n",
    "dl_dummy = data.DataLoader(ds, batch_size=batch_size_training, shuffle=False)\n",
    "db = DataBunch(dl_all, dl_dummy)\n",
    "\n",
    "emb_dim = ds.embbag.weight.data.size(1)\n",
    "\n",
    "m = FTModel(input_dim = emb_dim, layer_sizes = [1000,200])\n",
    "\n",
    "criterion = nn.CrossEntropyLoss()\n",
    "\n",
    "learner = Learner(db, m, loss_func = criterion, metrics=accuracy, callback_fns=ShowGraph)\n",
    "learner.unfreeze()\n",
    "\n",
    "learner.fit_one_cycle(2,1e-2)\n",
    "\n",
    "learner.save(\"model_1000_200_layernorm_epoch2_all\")\n",
    "\"\"\"\n",
    "\n",
    "# test\n",
    "m.eval()\n",
    "acc = torch.tensor(0)\n",
    "for mb, labels in dl_test:\n",
    "    out = m(mb)\n",
    "    pred = torch.topk(out, 1)[1].reshape(-1)\n",
    "    acc += (pred == labels).sum()\n",
    "print(\"Accuracy: {:.4f}%\".format((acc.item() / len(ds_test))*100))\n"
   ]
  },
  {
   "cell_type": "code",
   "execution_count": null,
   "metadata": {},
   "outputs": [],
   "source": []
  }
 ],
 "metadata": {
  "kernelspec": {
   "display_name": "Python 3",
   "language": "python",
   "name": "python3"
  },
  "language_info": {
   "codemirror_mode": {
    "name": "ipython",
    "version": 3
   },
   "file_extension": ".py",
   "mimetype": "text/x-python",
   "name": "python",
   "nbconvert_exporter": "python",
   "pygments_lexer": "ipython3",
   "version": "3.7.1"
  }
 },
 "nbformat": 4,
 "nbformat_minor": 2
}
