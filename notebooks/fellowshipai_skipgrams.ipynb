{
 "cells": [
  {
   "cell_type": "code",
   "execution_count": 1,
   "metadata": {},
   "outputs": [],
   "source": [
    "import sys\n",
    "sys.path.append(\"../\")"
   ]
  },
  {
   "cell_type": "code",
   "execution_count": 2,
   "metadata": {},
   "outputs": [],
   "source": [
    "import os"
   ]
  },
  {
   "cell_type": "code",
   "execution_count": 3,
   "metadata": {},
   "outputs": [],
   "source": [
    "fasttext_path = \"/home/david/Programming/repos/facebookresearch/fastText/fasttext\""
   ]
  },
  {
   "cell_type": "code",
   "execution_count": 5,
   "metadata": {},
   "outputs": [
    {
     "name": "stdout",
     "output_type": "stream",
     "text": [
      "Read 770M words\n",
      "Number of words:  1022290\n",
      "Number of labels: 21\n",
      "Progress: 100.0% words/sec/thread:   56416 lr:  0.000000 loss:  0.010637 ETA:   0h 0m\n",
      "N\t21000\n",
      "P@1\t0.999\n",
      "R@1\t0.999\n",
      "N\t21000\n",
      "P@1\t0.999\n",
      "R@1\t0.999\n"
     ]
    }
   ],
   "source": [
    "europarl_path = \"/home/david/Programming/data/WMT/europarl\"\n",
    "europarl_all = os.path.join(europarl_path, \"txt_noxml\", \"europarl.tokenized.all\")\n",
    "ftmodel_skipgrams = os.path.join(europarl_path, \"models\", \"europarl_lid.baseline\")\n",
    "ftmodel_skipgrams_bin = ftmodel_skipgrams + \".bin\"\n",
    "ftmodel_skipgrams_ftz = ftmodel_skipgrams + \".ftz\"\n",
    "europarl_test = os.path.join(europarl_path, \"test\", \"europarl.tokenized.test\")\n",
    "\n",
    "!$fasttext_path supervised -input $europarl_all -output $ftmodel_skipgrams -minn 3 -maxn 6 -minCount 10 -thread 4\n",
    "!$fasttext_path quantize -output $ftmodel_skipgrams -input $europarl_all -qnorm -retrain -epoch 1 -cutoff 100000\n",
    "!$fasttext_path test $ftmodel_skipgrams_bin $europarl_test\n",
    "!$fasttext_path test $ftmodel_skipgrams_ftz $europarl_test"
   ]
  },
  {
   "cell_type": "code",
   "execution_count": null,
   "metadata": {},
   "outputs": [],
   "source": []
  }
 ],
 "metadata": {
  "kernelspec": {
   "display_name": "Python 3",
   "language": "python",
   "name": "python3"
  },
  "language_info": {
   "codemirror_mode": {
    "name": "ipython",
    "version": 3
   },
   "file_extension": ".py",
   "mimetype": "text/x-python",
   "name": "python",
   "nbconvert_exporter": "python",
   "pygments_lexer": "ipython3",
   "version": "3.7.1"
  }
 },
 "nbformat": 4,
 "nbformat_minor": 2
}
